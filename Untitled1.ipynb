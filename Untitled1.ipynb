{
 "cells": [
  {
   "cell_type": "code",
   "execution_count": 1,
   "id": "2b90ebec-6815-457b-a53b-a166f31f267a",
   "metadata": {},
   "outputs": [],
   "source": [
    "import numpy as np"
   ]
  },
  {
   "cell_type": "code",
   "execution_count": 13,
   "id": "ce9b4e86-dba8-4469-aa6f-dfb03fa34b7a",
   "metadata": {},
   "outputs": [],
   "source": [
    "x = np.arange(1,10)"
   ]
  },
  {
   "cell_type": "code",
   "execution_count": 14,
   "id": "127a285e-fdb1-4e05-93cb-b75812ff604a",
   "metadata": {},
   "outputs": [
    {
     "data": {
      "text/plain": [
       "array([1, 2, 3, 4, 5, 6, 7, 8, 9])"
      ]
     },
     "execution_count": 14,
     "metadata": {},
     "output_type": "execute_result"
    }
   ],
   "source": [
    "x"
   ]
  },
  {
   "cell_type": "code",
   "execution_count": 17,
   "id": "4111d554-a03d-4bb7-956e-23676ed9a1cf",
   "metadata": {},
   "outputs": [
    {
     "name": "stdout",
     "output_type": "stream",
     "text": [
      "144\n",
      "234\n",
      "243\n",
      "324\n",
      "333\n",
      "342\n",
      "414\n",
      "423\n",
      "432\n",
      "441\n"
     ]
    }
   ],
   "source": [
    "a = 0\n",
    "\n",
    "for i in x:\n",
    "    for j in x:\n",
    "        for k in x:\n",
    "            if i + j + k == 9 and i < 5 and j < 5 and k < 5:\n",
    "                print(f\"{i}{j}{k}\")"
   ]
  },
  {
   "cell_type": "code",
   "execution_count": 6,
   "id": "48cf6cd1-e509-4e21-a128-5d5f3ca33889",
   "metadata": {},
   "outputs": [],
   "source": [
    "y = np.arange(1, 17)"
   ]
  },
  {
   "cell_type": "code",
   "execution_count": 7,
   "id": "6fe638c2-746a-42b6-902f-38f58fde90b0",
   "metadata": {},
   "outputs": [
    {
     "data": {
      "text/plain": [
       "array([ 1,  2,  3,  4,  5,  6,  7,  8,  9, 10, 11, 12, 13, 14, 15, 16])"
      ]
     },
     "execution_count": 7,
     "metadata": {},
     "output_type": "execute_result"
    }
   ],
   "source": [
    "y"
   ]
  },
  {
   "cell_type": "code",
   "execution_count": 8,
   "id": "926d20c4-6b0b-4b63-b306-fb85309d0c51",
   "metadata": {},
   "outputs": [],
   "source": [
    "y = y.reshape(4, 4)"
   ]
  },
  {
   "cell_type": "code",
   "execution_count": 9,
   "id": "d903d4af-e2a0-4fa8-be7d-adea0319d4bf",
   "metadata": {},
   "outputs": [
    {
     "data": {
      "text/plain": [
       "array([[ 1,  2,  3,  4],\n",
       "       [ 5,  6,  7,  8],\n",
       "       [ 9, 10, 11, 12],\n",
       "       [13, 14, 15, 16]])"
      ]
     },
     "execution_count": 9,
     "metadata": {},
     "output_type": "execute_result"
    }
   ],
   "source": [
    "y"
   ]
  },
  {
   "cell_type": "code",
   "execution_count": 11,
   "id": "e4340681-8e6f-4327-9574-b024885aea7b",
   "metadata": {},
   "outputs": [
    {
     "data": {
      "text/plain": [
       "10"
      ]
     },
     "execution_count": 11,
     "metadata": {},
     "output_type": "execute_result"
    }
   ],
   "source": [
    "sum(y[0,:])"
   ]
  },
  {
   "cell_type": "code",
   "execution_count": 12,
   "id": "049fd55c-672b-4d90-a2f6-3f0c614143a5",
   "metadata": {},
   "outputs": [
    {
     "data": {
      "text/plain": [
       "18446744073709551616"
      ]
     },
     "execution_count": 12,
     "metadata": {},
     "output_type": "execute_result"
    }
   ],
   "source": [
    "16 ** 16"
   ]
  },
  {
   "cell_type": "code",
   "execution_count": null,
   "id": "c1bd484c-d6d2-42d6-8ddb-a29661a1fc26",
   "metadata": {},
   "outputs": [],
   "source": [
    "for i in x:\n",
    "    for j in x:\n",
    "        for k in x:\n",
    "            if int(f\"{i}{j}{k}\") == 9 * int(f\"{i}{k}\"):\n",
    "                print(f\"{i}{j}{k}\")"
   ]
  }
 ],
 "metadata": {
  "kernelspec": {
   "display_name": "Python 3",
   "language": "python",
   "name": "python3"
  },
  "language_info": {
   "codemirror_mode": {
    "name": "ipython",
    "version": 3
   },
   "file_extension": ".py",
   "mimetype": "text/x-python",
   "name": "python",
   "nbconvert_exporter": "python",
   "pygments_lexer": "ipython3",
   "version": "3.8.5"
  }
 },
 "nbformat": 4,
 "nbformat_minor": 5
}
