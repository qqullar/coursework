{
 "cells": [
  {
   "cell_type": "code",
   "execution_count": 2,
   "id": "5288b2ee-82ea-4e6b-ba5f-812d1b6efcfc",
   "metadata": {},
   "outputs": [],
   "source": [
    "import os\n",
    "import numpy as np"
   ]
  },
  {
   "cell_type": "code",
   "execution_count": 3,
   "id": "f4498b0d-a237-49c7-a670-3476e0caeb73",
   "metadata": {},
   "outputs": [],
   "source": [
    "def p(i,j, matr, d):\n",
    "    n_rows, n_cols = matr.shape\n",
    "    dx, dy = d\n",
    "    \n",
    "    res = 0\n",
    "    for x in range(n_rows):\n",
    "        for y in range(n_cols):\n",
    "            props1 = [x + dx  < n_rows, y + dy < n_cols]\n",
    "            \n",
    "            if all(props1):\n",
    "                if matr[x][y] == i and matr[x + dx][y + dy] == j:\n",
    "                    res += 1\n",
    "       \n",
    "    return res\n",
    "\n",
    "def coincidence_matr(image, d):\n",
    "    \"\"\"\n",
    "    d -- (dx, dy) vector\n",
    "    image -- N x M matrix\n",
    "    \"\"\"\n",
    "    \n",
    "    res_matr = np.zeros((256, 256))\n",
    "    vmin, vmax = image.min(), image.max()\n",
    "    \n",
    "    # it actually makes sense to look only at\n",
    "    # rectangle (vmnin x vmax) and make the least\n",
    "    # equals zero\n",
    "    for i in range(vmin, vmax):\n",
    "        for j in range(vmin, vmax):\n",
    "            res_matr[i, j] = p(i, j, image, d)\n",
    "            \n",
    "            \n",
    "    return res_matr"
   ]
  },
  {
   "cell_type": "code",
   "execution_count": 4,
   "id": "d83c08b4-b570-4362-acad-9df78b567f95",
   "metadata": {},
   "outputs": [],
   "source": [
    "matrices_bc = []\n",
    "\n",
    "dir_path_bc = r\"D:\\Documents\\Курсова файли\\needed_files\\BC\"\n",
    "entries_control_director = os.listdir(dir_path_bc)\n",
    "\n",
    "i = 0\n",
    "for folder_name in entries_control_director:\n",
    "    entries_control =  os.listdir(dir_path_bc + fr\"\\{folder_name}\")\n",
    "    \n",
    "    for file_name in entries_control:\n",
    "        matrices_bc.append([])\n",
    "        with open(dir_path_bc + fr\"\\{folder_name}\\{file_name}\") as f:\n",
    "            lines = f.readlines()\n",
    "            for line in lines:\n",
    "                t = np.array([int(float(x)) for x in line.split()], dtype=np.uint8)\n",
    "                matrices_bc[i].append(t)\n",
    "        i += 1 "
   ]
  },
  {
   "cell_type": "code",
   "execution_count": 5,
   "id": "397f9ecc-9bcd-4c76-a64e-f8337112e241",
   "metadata": {},
   "outputs": [
    {
     "name": "stdout",
     "output_type": "stream",
     "text": [
      "3403\n"
     ]
    }
   ],
   "source": [
    "n = len(matrices_bc)\n",
    "print(n)"
   ]
  },
  {
   "cell_type": "code",
   "execution_count": 7,
   "id": "082dc07a-1db4-4691-aafe-2b7b0c6fb23b",
   "metadata": {},
   "outputs": [
    {
     "ename": "KeyboardInterrupt",
     "evalue": "",
     "output_type": "error",
     "traceback": [
      "\u001b[1;31m---------------------------------------------------------------------------\u001b[0m",
      "\u001b[1;31mKeyboardInterrupt\u001b[0m                         Traceback (most recent call last)",
      "\u001b[1;32m<ipython-input-7-5b16be67789d>\u001b[0m in \u001b[0;36m<module>\u001b[1;34m\u001b[0m\n\u001b[0;32m      2\u001b[0m \u001b[1;32mfor\u001b[0m \u001b[0mI\u001b[0m \u001b[1;32min\u001b[0m \u001b[0mmatrices_bc\u001b[0m\u001b[1;33m[\u001b[0m\u001b[1;33m:\u001b[0m\u001b[1;33m:\u001b[0m\u001b[1;33m-\u001b[0m\u001b[1;36m1\u001b[0m\u001b[1;33m]\u001b[0m\u001b[1;33m:\u001b[0m\u001b[1;33m\u001b[0m\u001b[1;33m\u001b[0m\u001b[0m\n\u001b[0;32m      3\u001b[0m     \u001b[0mI_new\u001b[0m \u001b[1;33m=\u001b[0m \u001b[0mnp\u001b[0m\u001b[1;33m.\u001b[0m\u001b[0marray\u001b[0m\u001b[1;33m(\u001b[0m\u001b[0mI\u001b[0m\u001b[1;33m,\u001b[0m \u001b[0mdtype\u001b[0m\u001b[1;33m=\u001b[0m\u001b[0mnp\u001b[0m\u001b[1;33m.\u001b[0m\u001b[0muint8\u001b[0m\u001b[1;33m)\u001b[0m\u001b[1;33m\u001b[0m\u001b[1;33m\u001b[0m\u001b[0m\n\u001b[1;32m----> 4\u001b[1;33m     \u001b[0mP_i\u001b[0m \u001b[1;33m=\u001b[0m \u001b[0mcoincidence_matr\u001b[0m\u001b[1;33m(\u001b[0m\u001b[0mI_new\u001b[0m\u001b[1;33m,\u001b[0m \u001b[1;33m(\u001b[0m\u001b[1;36m0\u001b[0m\u001b[1;33m,\u001b[0m\u001b[1;36m1\u001b[0m\u001b[1;33m)\u001b[0m\u001b[1;33m)\u001b[0m\u001b[1;33m\u001b[0m\u001b[1;33m\u001b[0m\u001b[0m\n\u001b[0m\u001b[0;32m      5\u001b[0m     \u001b[0mnp\u001b[0m\u001b[1;33m.\u001b[0m\u001b[0msavetxt\u001b[0m\u001b[1;33m(\u001b[0m\u001b[1;34mfr'bc_coincedence_matrices/P{i}.out'\u001b[0m\u001b[1;33m,\u001b[0m \u001b[0mP_i\u001b[0m\u001b[1;33m,\u001b[0m \u001b[0mdelimiter\u001b[0m\u001b[1;33m=\u001b[0m\u001b[1;34m','\u001b[0m\u001b[1;33m)\u001b[0m\u001b[1;33m\u001b[0m\u001b[1;33m\u001b[0m\u001b[0m\n\u001b[0;32m      6\u001b[0m     \u001b[0mi\u001b[0m \u001b[1;33m+=\u001b[0m \u001b[1;36m1\u001b[0m\u001b[1;33m\u001b[0m\u001b[1;33m\u001b[0m\u001b[0m\n",
      "\u001b[1;32m<ipython-input-3-0ce932cd36fc>\u001b[0m in \u001b[0;36mcoincidence_matr\u001b[1;34m(image, d)\u001b[0m\n\u001b[0;32m     28\u001b[0m     \u001b[1;32mfor\u001b[0m \u001b[0mi\u001b[0m \u001b[1;32min\u001b[0m \u001b[0mrange\u001b[0m\u001b[1;33m(\u001b[0m\u001b[0mvmin\u001b[0m\u001b[1;33m,\u001b[0m \u001b[0mvmax\u001b[0m\u001b[1;33m)\u001b[0m\u001b[1;33m:\u001b[0m\u001b[1;33m\u001b[0m\u001b[1;33m\u001b[0m\u001b[0m\n\u001b[0;32m     29\u001b[0m         \u001b[1;32mfor\u001b[0m \u001b[0mj\u001b[0m \u001b[1;32min\u001b[0m \u001b[0mrange\u001b[0m\u001b[1;33m(\u001b[0m\u001b[0mvmin\u001b[0m\u001b[1;33m,\u001b[0m \u001b[0mvmax\u001b[0m\u001b[1;33m)\u001b[0m\u001b[1;33m:\u001b[0m\u001b[1;33m\u001b[0m\u001b[1;33m\u001b[0m\u001b[0m\n\u001b[1;32m---> 30\u001b[1;33m             \u001b[0mres_matr\u001b[0m\u001b[1;33m[\u001b[0m\u001b[0mi\u001b[0m\u001b[1;33m,\u001b[0m \u001b[0mj\u001b[0m\u001b[1;33m]\u001b[0m \u001b[1;33m=\u001b[0m \u001b[0mp\u001b[0m\u001b[1;33m(\u001b[0m\u001b[0mi\u001b[0m\u001b[1;33m,\u001b[0m \u001b[0mj\u001b[0m\u001b[1;33m,\u001b[0m \u001b[0mimage\u001b[0m\u001b[1;33m,\u001b[0m \u001b[0md\u001b[0m\u001b[1;33m)\u001b[0m\u001b[1;33m\u001b[0m\u001b[1;33m\u001b[0m\u001b[0m\n\u001b[0m\u001b[0;32m     31\u001b[0m \u001b[1;33m\u001b[0m\u001b[0m\n\u001b[0;32m     32\u001b[0m \u001b[1;33m\u001b[0m\u001b[0m\n",
      "\u001b[1;32m<ipython-input-3-0ce932cd36fc>\u001b[0m in \u001b[0;36mp\u001b[1;34m(i, j, matr, d)\u001b[0m\n\u001b[0;32m      6\u001b[0m     \u001b[1;32mfor\u001b[0m \u001b[0mx\u001b[0m \u001b[1;32min\u001b[0m \u001b[0mrange\u001b[0m\u001b[1;33m(\u001b[0m\u001b[0mn_rows\u001b[0m\u001b[1;33m)\u001b[0m\u001b[1;33m:\u001b[0m\u001b[1;33m\u001b[0m\u001b[1;33m\u001b[0m\u001b[0m\n\u001b[0;32m      7\u001b[0m         \u001b[1;32mfor\u001b[0m \u001b[0my\u001b[0m \u001b[1;32min\u001b[0m \u001b[0mrange\u001b[0m\u001b[1;33m(\u001b[0m\u001b[0mn_cols\u001b[0m\u001b[1;33m)\u001b[0m\u001b[1;33m:\u001b[0m\u001b[1;33m\u001b[0m\u001b[1;33m\u001b[0m\u001b[0m\n\u001b[1;32m----> 8\u001b[1;33m             \u001b[0mprops1\u001b[0m \u001b[1;33m=\u001b[0m \u001b[1;33m[\u001b[0m\u001b[0mx\u001b[0m \u001b[1;33m+\u001b[0m \u001b[0mdx\u001b[0m  \u001b[1;33m<\u001b[0m \u001b[0mn_rows\u001b[0m\u001b[1;33m,\u001b[0m \u001b[0my\u001b[0m \u001b[1;33m+\u001b[0m \u001b[0mdy\u001b[0m \u001b[1;33m<\u001b[0m \u001b[0mn_cols\u001b[0m\u001b[1;33m]\u001b[0m\u001b[1;33m\u001b[0m\u001b[1;33m\u001b[0m\u001b[0m\n\u001b[0m\u001b[0;32m      9\u001b[0m \u001b[1;33m\u001b[0m\u001b[0m\n\u001b[0;32m     10\u001b[0m             \u001b[1;32mif\u001b[0m \u001b[0mall\u001b[0m\u001b[1;33m(\u001b[0m\u001b[0mprops1\u001b[0m\u001b[1;33m)\u001b[0m\u001b[1;33m:\u001b[0m\u001b[1;33m\u001b[0m\u001b[1;33m\u001b[0m\u001b[0m\n",
      "\u001b[1;31mKeyboardInterrupt\u001b[0m: "
     ]
    }
   ],
   "source": [
    "i = 45\n",
    "for I in matrices_bc[::-1]:\n",
    "    I_new = np.array(I, dtype=np.uint8)\n",
    "    P_i = coincidence_matr(I_new, (0,1))\n",
    "    np.savetxt(fr'bc_coincedence_matrices/P{i}.out', P_i, delimiter=',')\n",
    "    i += 1"
   ]
  },
  {
   "cell_type": "code",
   "execution_count": null,
   "id": "1333c2eb-4787-4a97-81ea-cc6fbec47d41",
   "metadata": {},
   "outputs": [],
   "source": []
  }
 ],
 "metadata": {
  "kernelspec": {
   "display_name": "Python 3",
   "language": "python",
   "name": "python3"
  },
  "language_info": {
   "codemirror_mode": {
    "name": "ipython",
    "version": 3
   },
   "file_extension": ".py",
   "mimetype": "text/x-python",
   "name": "python",
   "nbconvert_exporter": "python",
   "pygments_lexer": "ipython3",
   "version": "3.8.5"
  }
 },
 "nbformat": 4,
 "nbformat_minor": 5
}
