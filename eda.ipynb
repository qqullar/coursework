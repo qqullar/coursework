{
 "cells": [
  {
   "cell_type": "code",
   "execution_count": 34,
   "id": "f3e962bf-4c5f-4f0a-b9c8-70680bcaaae8",
   "metadata": {},
   "outputs": [],
   "source": [
    "import numpy as np\n",
    "import pandas as pd\n",
    "import matplotlib.pyplot as plt"
   ]
  },
  {
   "cell_type": "code",
   "execution_count": 2,
   "id": "d75a652a-6e73-465b-b9e0-f84686d77a13",
   "metadata": {},
   "outputs": [],
   "source": [
    "data = pd.read_csv(r\"csvs\\df_all.csv\")"
   ]
  },
  {
   "cell_type": "code",
   "execution_count": 3,
   "id": "547bfc3e-0a94-46ac-814e-673fa170630a",
   "metadata": {},
   "outputs": [
    {
     "data": {
      "text/html": [
       "<div>\n",
       "<style scoped>\n",
       "    .dataframe tbody tr th:only-of-type {\n",
       "        vertical-align: middle;\n",
       "    }\n",
       "\n",
       "    .dataframe tbody tr th {\n",
       "        vertical-align: top;\n",
       "    }\n",
       "\n",
       "    .dataframe thead th {\n",
       "        text-align: right;\n",
       "    }\n",
       "</style>\n",
       "<table border=\"1\" class=\"dataframe\">\n",
       "  <thead>\n",
       "    <tr style=\"text-align: right;\">\n",
       "      <th></th>\n",
       "      <th>background_max_distance</th>\n",
       "      <th>kernel_max_distance</th>\n",
       "      <th>textures_max_distance</th>\n",
       "      <th>textures_min_distance</th>\n",
       "      <th>barycenter_distance</th>\n",
       "      <th>group</th>\n",
       "    </tr>\n",
       "  </thead>\n",
       "  <tbody>\n",
       "    <tr>\n",
       "      <th>count</th>\n",
       "      <td>3536.000000</td>\n",
       "      <td>3536.000000</td>\n",
       "      <td>3536.000000</td>\n",
       "      <td>3536.000000</td>\n",
       "      <td>3536.000000</td>\n",
       "      <td>3536.000000</td>\n",
       "    </tr>\n",
       "    <tr>\n",
       "      <th>mean</th>\n",
       "      <td>16.383306</td>\n",
       "      <td>16.457061</td>\n",
       "      <td>30.682541</td>\n",
       "      <td>1.085510</td>\n",
       "      <td>14.114617</td>\n",
       "      <td>0.905260</td>\n",
       "    </tr>\n",
       "    <tr>\n",
       "      <th>std</th>\n",
       "      <td>3.435470</td>\n",
       "      <td>3.398518</td>\n",
       "      <td>7.824125</td>\n",
       "      <td>2.068380</td>\n",
       "      <td>4.483109</td>\n",
       "      <td>0.872536</td>\n",
       "    </tr>\n",
       "    <tr>\n",
       "      <th>min</th>\n",
       "      <td>3.000000</td>\n",
       "      <td>10.440307</td>\n",
       "      <td>15.000000</td>\n",
       "      <td>1.000000</td>\n",
       "      <td>5.138974</td>\n",
       "      <td>0.000000</td>\n",
       "    </tr>\n",
       "    <tr>\n",
       "      <th>25%</th>\n",
       "      <td>13.928388</td>\n",
       "      <td>14.035669</td>\n",
       "      <td>24.758837</td>\n",
       "      <td>1.000000</td>\n",
       "      <td>11.007116</td>\n",
       "      <td>0.000000</td>\n",
       "    </tr>\n",
       "    <tr>\n",
       "      <th>50%</th>\n",
       "      <td>15.652476</td>\n",
       "      <td>15.811388</td>\n",
       "      <td>29.068884</td>\n",
       "      <td>1.000000</td>\n",
       "      <td>13.175620</td>\n",
       "      <td>1.000000</td>\n",
       "    </tr>\n",
       "    <tr>\n",
       "      <th>75%</th>\n",
       "      <td>18.027756</td>\n",
       "      <td>18.357560</td>\n",
       "      <td>35.468296</td>\n",
       "      <td>1.000000</td>\n",
       "      <td>16.375950</td>\n",
       "      <td>2.000000</td>\n",
       "    </tr>\n",
       "    <tr>\n",
       "      <th>max</th>\n",
       "      <td>42.449971</td>\n",
       "      <td>39.623226</td>\n",
       "      <td>141.014184</td>\n",
       "      <td>118.511603</td>\n",
       "      <td>129.504252</td>\n",
       "      <td>2.000000</td>\n",
       "    </tr>\n",
       "  </tbody>\n",
       "</table>\n",
       "</div>"
      ],
      "text/plain": [
       "       background_max_distance  kernel_max_distance  textures_max_distance  \\\n",
       "count              3536.000000          3536.000000            3536.000000   \n",
       "mean                 16.383306            16.457061              30.682541   \n",
       "std                   3.435470             3.398518               7.824125   \n",
       "min                   3.000000            10.440307              15.000000   \n",
       "25%                  13.928388            14.035669              24.758837   \n",
       "50%                  15.652476            15.811388              29.068884   \n",
       "75%                  18.027756            18.357560              35.468296   \n",
       "max                  42.449971            39.623226             141.014184   \n",
       "\n",
       "       textures_min_distance  barycenter_distance        group  \n",
       "count            3536.000000          3536.000000  3536.000000  \n",
       "mean                1.085510            14.114617     0.905260  \n",
       "std                 2.068380             4.483109     0.872536  \n",
       "min                 1.000000             5.138974     0.000000  \n",
       "25%                 1.000000            11.007116     0.000000  \n",
       "50%                 1.000000            13.175620     1.000000  \n",
       "75%                 1.000000            16.375950     2.000000  \n",
       "max               118.511603           129.504252     2.000000  "
      ]
     },
     "execution_count": 3,
     "metadata": {},
     "output_type": "execute_result"
    }
   ],
   "source": [
    "data.describe()"
   ]
  },
  {
   "cell_type": "code",
   "execution_count": 4,
   "id": "f86e82a0-086d-4a17-866e-b9ff177ceeae",
   "metadata": {},
   "outputs": [],
   "source": [
    "data.drop_duplicates(inplace=True)"
   ]
  },
  {
   "cell_type": "code",
   "execution_count": 5,
   "id": "10858b1a-bf6d-42c1-8135-bec29de2ed9c",
   "metadata": {},
   "outputs": [
    {
     "data": {
      "text/html": [
       "<div>\n",
       "<style scoped>\n",
       "    .dataframe tbody tr th:only-of-type {\n",
       "        vertical-align: middle;\n",
       "    }\n",
       "\n",
       "    .dataframe tbody tr th {\n",
       "        vertical-align: top;\n",
       "    }\n",
       "\n",
       "    .dataframe thead th {\n",
       "        text-align: right;\n",
       "    }\n",
       "</style>\n",
       "<table border=\"1\" class=\"dataframe\">\n",
       "  <thead>\n",
       "    <tr style=\"text-align: right;\">\n",
       "      <th></th>\n",
       "      <th>background_max_distance</th>\n",
       "      <th>kernel_max_distance</th>\n",
       "      <th>textures_max_distance</th>\n",
       "      <th>textures_min_distance</th>\n",
       "      <th>barycenter_distance</th>\n",
       "      <th>group</th>\n",
       "    </tr>\n",
       "  </thead>\n",
       "  <tbody>\n",
       "    <tr>\n",
       "      <th>count</th>\n",
       "      <td>3151.000000</td>\n",
       "      <td>3151.000000</td>\n",
       "      <td>3151.000000</td>\n",
       "      <td>3151.000000</td>\n",
       "      <td>3151.000000</td>\n",
       "      <td>3151.000000</td>\n",
       "    </tr>\n",
       "    <tr>\n",
       "      <th>mean</th>\n",
       "      <td>16.316776</td>\n",
       "      <td>16.373511</td>\n",
       "      <td>30.496610</td>\n",
       "      <td>1.089748</td>\n",
       "      <td>14.025124</td>\n",
       "      <td>0.855284</td>\n",
       "    </tr>\n",
       "    <tr>\n",
       "      <th>std</th>\n",
       "      <td>3.447687</td>\n",
       "      <td>3.381720</td>\n",
       "      <td>7.845833</td>\n",
       "      <td>2.182035</td>\n",
       "      <td>4.527027</td>\n",
       "      <td>0.849278</td>\n",
       "    </tr>\n",
       "    <tr>\n",
       "      <th>min</th>\n",
       "      <td>3.000000</td>\n",
       "      <td>10.440307</td>\n",
       "      <td>15.000000</td>\n",
       "      <td>1.000000</td>\n",
       "      <td>5.138974</td>\n",
       "      <td>0.000000</td>\n",
       "    </tr>\n",
       "    <tr>\n",
       "      <th>25%</th>\n",
       "      <td>13.928388</td>\n",
       "      <td>13.928388</td>\n",
       "      <td>24.413111</td>\n",
       "      <td>1.000000</td>\n",
       "      <td>10.926306</td>\n",
       "      <td>0.000000</td>\n",
       "    </tr>\n",
       "    <tr>\n",
       "      <th>50%</th>\n",
       "      <td>15.524175</td>\n",
       "      <td>15.652476</td>\n",
       "      <td>29.068884</td>\n",
       "      <td>1.000000</td>\n",
       "      <td>13.009801</td>\n",
       "      <td>1.000000</td>\n",
       "    </tr>\n",
       "    <tr>\n",
       "      <th>75%</th>\n",
       "      <td>18.027756</td>\n",
       "      <td>18.027756</td>\n",
       "      <td>35.383612</td>\n",
       "      <td>1.000000</td>\n",
       "      <td>16.230487</td>\n",
       "      <td>2.000000</td>\n",
       "    </tr>\n",
       "    <tr>\n",
       "      <th>max</th>\n",
       "      <td>42.449971</td>\n",
       "      <td>39.623226</td>\n",
       "      <td>141.014184</td>\n",
       "      <td>118.511603</td>\n",
       "      <td>129.504252</td>\n",
       "      <td>2.000000</td>\n",
       "    </tr>\n",
       "  </tbody>\n",
       "</table>\n",
       "</div>"
      ],
      "text/plain": [
       "       background_max_distance  kernel_max_distance  textures_max_distance  \\\n",
       "count              3151.000000          3151.000000            3151.000000   \n",
       "mean                 16.316776            16.373511              30.496610   \n",
       "std                   3.447687             3.381720               7.845833   \n",
       "min                   3.000000            10.440307              15.000000   \n",
       "25%                  13.928388            13.928388              24.413111   \n",
       "50%                  15.524175            15.652476              29.068884   \n",
       "75%                  18.027756            18.027756              35.383612   \n",
       "max                  42.449971            39.623226             141.014184   \n",
       "\n",
       "       textures_min_distance  barycenter_distance        group  \n",
       "count            3151.000000          3151.000000  3151.000000  \n",
       "mean                1.089748            14.025124     0.855284  \n",
       "std                 2.182035             4.527027     0.849278  \n",
       "min                 1.000000             5.138974     0.000000  \n",
       "25%                 1.000000            10.926306     0.000000  \n",
       "50%                 1.000000            13.009801     1.000000  \n",
       "75%                 1.000000            16.230487     2.000000  \n",
       "max               118.511603           129.504252     2.000000  "
      ]
     },
     "execution_count": 5,
     "metadata": {},
     "output_type": "execute_result"
    }
   ],
   "source": [
    "data.describe()"
   ]
  },
  {
   "cell_type": "code",
   "execution_count": 6,
   "id": "62431556-eeb1-4458-8227-83d9a6b896d6",
   "metadata": {},
   "outputs": [
    {
     "name": "stdout",
     "output_type": "stream",
     "text": [
      "<class 'pandas.core.frame.DataFrame'>\n",
      "Int64Index: 3151 entries, 0 to 3535\n",
      "Data columns (total 6 columns):\n",
      " #   Column                   Non-Null Count  Dtype  \n",
      "---  ------                   --------------  -----  \n",
      " 0   background_max_distance  3151 non-null   float64\n",
      " 1   kernel_max_distance      3151 non-null   float64\n",
      " 2   textures_max_distance    3151 non-null   float64\n",
      " 3   textures_min_distance    3151 non-null   float64\n",
      " 4   barycenter_distance      3151 non-null   float64\n",
      " 5   group                    3151 non-null   int64  \n",
      "dtypes: float64(5), int64(1)\n",
      "memory usage: 172.3 KB\n"
     ]
    }
   ],
   "source": [
    "data.info()"
   ]
  },
  {
   "cell_type": "code",
   "execution_count": 44,
   "id": "7465fa2d-86c9-471a-bdf8-128f35f36f32",
   "metadata": {},
   "outputs": [
    {
     "data": {
      "image/png": "[encoded data removed]",
      "text/plain": [
       "<Figure size 432x288 with 1 Axes>"
      ]
     },
     "metadata": {
      "needs_background": "light"
     },
     "output_type": "display_data"
    }
   ],
   "source": [
    "data[\"textures_max_distance\"].hist(bins=200)\n",
    "plt.title(\"textures_max_distance hist\")\n",
    "plt.savefig(\"textures_max_distance.png\", dpi=200)"
   ]
  },
  {
   "cell_type": "code",
   "execution_count": 38,
   "id": "b2a7ec8d-941d-4bb8-8c82-d80ac4a28b1a",
   "metadata": {},
   "outputs": [
    {
     "data": {
      "image/png": "[encoded data removed]",
      "text/plain": [
       "<Figure size 432x288 with 1 Axes>"
      ]
     },
     "metadata": {
      "needs_background": "light"
     },
     "output_type": "display_data"
    }
   ],
   "source": [
    "data[\"textures_min_distance\"].hist(bins=30)\n",
    "plt.title(\"textures_min_distance hist\")\n",
    "plt.savefig(\"textures_min_distance.png\", dpi=200)"
   ]
  },
  {
   "cell_type": "code",
   "execution_count": 39,
   "id": "9523047f-d575-4d0e-b28b-f88277e542e5",
   "metadata": {},
   "outputs": [
    {
     "data": {
      "image/png": "[encoded data removed]",
      "text/plain": [
       "<Figure size 432x288 with 1 Axes>"
      ]
     },
     "metadata": {
      "needs_background": "light"
     },
     "output_type": "display_data"
    }
   ],
   "source": [
    "data.background_max_distance.hist(bins=200)\n",
    "plt.title(\"background_max_distance hist\")\n",
    "plt.savefig(\"background_max_distance.png\", dpi=200)"
   ]
  },
  {
   "cell_type": "code",
   "execution_count": 40,
   "id": "9119ab2d-4cff-4034-857d-07eadc4383ba",
   "metadata": {},
   "outputs": [
    {
     "data": {
      "image/png": "[encoded data removed]",
      "text/plain": [
       "<Figure size 432x288 with 1 Axes>"
      ]
     },
     "metadata": {
      "needs_background": "light"
     },
     "output_type": "display_data"
    }
   ],
   "source": [
    "data.kernel_max_distance.hist(bins=200)\n",
    "plt.title(\"kernel_max_distance hist\")\n",
    "plt.savefig(\"kernel_max_distance.png\", dpi=200)"
   ]
  },
  {
   "cell_type": "code",
   "execution_count": 41,
   "id": "283fae32-e037-4af2-b5c3-a52a13fad479",
   "metadata": {},
   "outputs": [
    {
     "data": {
      "image/png": "[encoded data removed]",
      "text/plain": [
       "<Figure size 432x288 with 1 Axes>"
      ]
     },
     "metadata": {
      "needs_background": "light"
     },
     "output_type": "display_data"
    }
   ],
   "source": [
    "data.barycenter_distance.hist(bins=200)\n",
    "plt.title(\"barycenter_distance hist\")\n",
    "plt.savefig(\"barycenter_distance.png\", dpi=200)"
   ]
  },
  {
   "cell_type": "code",
   "execution_count": 42,
   "id": "71e0c3c0-1544-4e63-9889-6d8b83d8e797",
   "metadata": {},
   "outputs": [],
   "source": [
    "#?pd.DataFrame.drop"
   ]
  },
  {
   "cell_type": "code",
   "execution_count": 13,
   "id": "aa09c511-80bc-4cb6-b52f-34363781362b",
   "metadata": {},
   "outputs": [
    {
     "data": {
      "text/html": [
       "<div>\n",
       "<style scoped>\n",
       "    .dataframe tbody tr th:only-of-type {\n",
       "        vertical-align: middle;\n",
       "    }\n",
       "\n",
       "    .dataframe tbody tr th {\n",
       "        vertical-align: top;\n",
       "    }\n",
       "\n",
       "    .dataframe thead th {\n",
       "        text-align: right;\n",
       "    }\n",
       "</style>\n",
       "<table border=\"1\" class=\"dataframe\">\n",
       "  <thead>\n",
       "    <tr style=\"text-align: right;\">\n",
       "      <th></th>\n",
       "      <th>background_max_distance</th>\n",
       "      <th>kernel_max_distance</th>\n",
       "      <th>textures_max_distance</th>\n",
       "      <th>barycenter_distance</th>\n",
       "      <th>group</th>\n",
       "    </tr>\n",
       "  </thead>\n",
       "  <tbody>\n",
       "    <tr>\n",
       "      <th>0</th>\n",
       "      <td>12.369317</td>\n",
       "      <td>14.142136</td>\n",
       "      <td>22.671568</td>\n",
       "      <td>10.189276</td>\n",
       "      <td>0</td>\n",
       "    </tr>\n",
       "    <tr>\n",
       "      <th>1</th>\n",
       "      <td>16.155494</td>\n",
       "      <td>17.204651</td>\n",
       "      <td>31.240999</td>\n",
       "      <td>13.991094</td>\n",
       "      <td>0</td>\n",
       "    </tr>\n",
       "    <tr>\n",
       "      <th>2</th>\n",
       "      <td>16.552945</td>\n",
       "      <td>15.297059</td>\n",
       "      <td>30.413813</td>\n",
       "      <td>13.525940</td>\n",
       "      <td>0</td>\n",
       "    </tr>\n",
       "    <tr>\n",
       "      <th>3</th>\n",
       "      <td>17.000000</td>\n",
       "      <td>15.132746</td>\n",
       "      <td>29.832868</td>\n",
       "      <td>12.837341</td>\n",
       "      <td>0</td>\n",
       "    </tr>\n",
       "    <tr>\n",
       "      <th>4</th>\n",
       "      <td>16.155494</td>\n",
       "      <td>15.811388</td>\n",
       "      <td>30.413813</td>\n",
       "      <td>13.578361</td>\n",
       "      <td>0</td>\n",
       "    </tr>\n",
       "    <tr>\n",
       "      <th>...</th>\n",
       "      <td>...</td>\n",
       "      <td>...</td>\n",
       "      <td>...</td>\n",
       "      <td>...</td>\n",
       "      <td>...</td>\n",
       "    </tr>\n",
       "    <tr>\n",
       "      <th>3525</th>\n",
       "      <td>16.124515</td>\n",
       "      <td>15.132746</td>\n",
       "      <td>27.658633</td>\n",
       "      <td>12.118268</td>\n",
       "      <td>2</td>\n",
       "    </tr>\n",
       "    <tr>\n",
       "      <th>3527</th>\n",
       "      <td>19.416488</td>\n",
       "      <td>21.633308</td>\n",
       "      <td>41.231056</td>\n",
       "      <td>21.003817</td>\n",
       "      <td>2</td>\n",
       "    </tr>\n",
       "    <tr>\n",
       "      <th>3530</th>\n",
       "      <td>20.000000</td>\n",
       "      <td>20.248457</td>\n",
       "      <td>39.698866</td>\n",
       "      <td>20.827662</td>\n",
       "      <td>2</td>\n",
       "    </tr>\n",
       "    <tr>\n",
       "      <th>3532</th>\n",
       "      <td>20.615528</td>\n",
       "      <td>21.931712</td>\n",
       "      <td>43.139309</td>\n",
       "      <td>22.084511</td>\n",
       "      <td>2</td>\n",
       "    </tr>\n",
       "    <tr>\n",
       "      <th>3535</th>\n",
       "      <td>16.278821</td>\n",
       "      <td>16.124515</td>\n",
       "      <td>28.600699</td>\n",
       "      <td>12.882103</td>\n",
       "      <td>2</td>\n",
       "    </tr>\n",
       "  </tbody>\n",
       "</table>\n",
       "<p>3151 rows × 5 columns</p>\n",
       "</div>"
      ],
      "text/plain": [
       "      background_max_distance  kernel_max_distance  textures_max_distance  \\\n",
       "0                   12.369317            14.142136              22.671568   \n",
       "1                   16.155494            17.204651              31.240999   \n",
       "2                   16.552945            15.297059              30.413813   \n",
       "3                   17.000000            15.132746              29.832868   \n",
       "4                   16.155494            15.811388              30.413813   \n",
       "...                       ...                  ...                    ...   \n",
       "3525                16.124515            15.132746              27.658633   \n",
       "3527                19.416488            21.633308              41.231056   \n",
       "3530                20.000000            20.248457              39.698866   \n",
       "3532                20.615528            21.931712              43.139309   \n",
       "3535                16.278821            16.124515              28.600699   \n",
       "\n",
       "      barycenter_distance  group  \n",
       "0               10.189276      0  \n",
       "1               13.991094      0  \n",
       "2               13.525940      0  \n",
       "3               12.837341      0  \n",
       "4               13.578361      0  \n",
       "...                   ...    ...  \n",
       "3525            12.118268      2  \n",
       "3527            21.003817      2  \n",
       "3530            20.827662      2  \n",
       "3532            22.084511      2  \n",
       "3535            12.882103      2  \n",
       "\n",
       "[3151 rows x 5 columns]"
      ]
     },
     "execution_count": 13,
     "metadata": {},
     "output_type": "execute_result"
    }
   ],
   "source": [
    "data.drop([\"textures_min_distance\"], axis=1)"
   ]
  },
  {
   "cell_type": "code",
   "execution_count": 27,
   "id": "3c029d88-e6d5-416f-8f3a-535279b9a54c",
   "metadata": {},
   "outputs": [],
   "source": [
    "index_delete = data[data.barycenter_distance > 40].index\n",
    "data.drop(index_delete, inplace=True)"
   ]
  },
  {
   "cell_type": "code",
   "execution_count": 28,
   "id": "e27e798d-58a8-4b1b-ae91-3792ae914d85",
   "metadata": {},
   "outputs": [
    {
     "data": {
      "text/plain": [
       "<AxesSubplot:>"
      ]
     },
     "execution_count": 28,
     "metadata": {},
     "output_type": "execute_result"
    },
    {
     "data": {
      "image/png": "[encoded data removed]",
      "text/plain": [
       "<Figure size 432x288 with 1 Axes>"
      ]
     },
     "metadata": {
      "needs_background": "light"
     },
     "output_type": "display_data"
    }
   ],
   "source": [
    "data.barycenter_distance.hist(bins=200)"
   ]
  },
  {
   "cell_type": "code",
   "execution_count": 29,
   "id": "447a61fa-6fe2-4669-9f96-d25595d2e0cb",
   "metadata": {},
   "outputs": [
    {
     "data": {
      "text/plain": [
       "(3150, 6)"
      ]
     },
     "execution_count": 29,
     "metadata": {},
     "output_type": "execute_result"
    }
   ],
   "source": [
    "data.shape"
   ]
  },
  {
   "cell_type": "code",
   "execution_count": 59,
   "id": "31d1e86c-992d-4ae1-afd2-2d68bfe7ca09",
   "metadata": {},
   "outputs": [
    {
     "name": "stdout",
     "output_type": "stream",
     "text": [
      "1396 726 899\n"
     ]
    }
   ],
   "source": [
    "n_control = len(data[data.group == 0].index)\n",
    "n_bc = len(data[data.group == 1].index)\n",
    "n_fam = len(data[data.group == 2].index)\n",
    "\n",
    "print(n_control, n_bc, n_fam)"
   ]
  },
  {
   "cell_type": "code",
   "execution_count": 45,
   "id": "66b86fbe-5861-45fe-85a1-154980763ec7",
   "metadata": {},
   "outputs": [],
   "source": [
    "index_delete = data[data.barycenter_distance > 27].index\n",
    "data.drop(index_delete, inplace=True)"
   ]
  },
  {
   "cell_type": "code",
   "execution_count": 46,
   "id": "8c779455-8307-4191-b948-b42140257dbd",
   "metadata": {},
   "outputs": [
    {
     "data": {
      "text/plain": [
       "(3131, 6)"
      ]
     },
     "execution_count": 46,
     "metadata": {},
     "output_type": "execute_result"
    }
   ],
   "source": [
    "data.shape"
   ]
  },
  {
   "cell_type": "code",
   "execution_count": 53,
   "id": "662cd13e-0d72-4674-869a-803307761018",
   "metadata": {},
   "outputs": [],
   "source": [
    "index_delete = data[data.background_max_distance > 25].index\n",
    "data.drop(index_delete, inplace=True)"
   ]
  },
  {
   "cell_type": "code",
   "execution_count": 54,
   "id": "9c3af357-78e7-40e3-837e-c3419fc93897",
   "metadata": {},
   "outputs": [
    {
     "data": {
      "text/plain": [
       "(3047, 6)"
      ]
     },
     "execution_count": 54,
     "metadata": {},
     "output_type": "execute_result"
    }
   ],
   "source": [
    "data.shape"
   ]
  },
  {
   "cell_type": "code",
   "execution_count": 57,
   "id": "dee56d47-f8d2-4949-b909-2fc817f842c2",
   "metadata": {},
   "outputs": [],
   "source": [
    "index_delete = data[data.kernel_max_distance > 25].index\n",
    "data.drop(index_delete, inplace=True)"
   ]
  },
  {
   "cell_type": "code",
   "execution_count": 58,
   "id": "15895616-d107-4f95-a5c3-54b8f8a1dbe3",
   "metadata": {},
   "outputs": [
    {
     "data": {
      "text/plain": [
       "(3021, 6)"
      ]
     },
     "execution_count": 58,
     "metadata": {},
     "output_type": "execute_result"
    }
   ],
   "source": [
    "data.shape"
   ]
  },
  {
   "cell_type": "code",
   "execution_count": 63,
   "id": "d34f32e6-479a-451c-93ae-be9f049fdde1",
   "metadata": {},
   "outputs": [
    {
     "data": {
      "text/html": [
       "<div>\n",
       "<style scoped>\n",
       "    .dataframe tbody tr th:only-of-type {\n",
       "        vertical-align: middle;\n",
       "    }\n",
       "\n",
       "    .dataframe tbody tr th {\n",
       "        vertical-align: top;\n",
       "    }\n",
       "\n",
       "    .dataframe thead th {\n",
       "        text-align: right;\n",
       "    }\n",
       "</style>\n",
       "<table border=\"1\" class=\"dataframe\">\n",
       "  <thead>\n",
       "    <tr style=\"text-align: right;\">\n",
       "      <th></th>\n",
       "      <th>background_max_distance</th>\n",
       "      <th>kernel_max_distance</th>\n",
       "      <th>textures_max_distance</th>\n",
       "      <th>barycenter_distance</th>\n",
       "    </tr>\n",
       "  </thead>\n",
       "  <tbody>\n",
       "    <tr>\n",
       "      <th>count</th>\n",
       "      <td>3021.000000</td>\n",
       "      <td>3021.000000</td>\n",
       "      <td>3021.000000</td>\n",
       "      <td>3021.000000</td>\n",
       "    </tr>\n",
       "    <tr>\n",
       "      <th>mean</th>\n",
       "      <td>15.972734</td>\n",
       "      <td>16.044878</td>\n",
       "      <td>29.686976</td>\n",
       "      <td>13.570045</td>\n",
       "    </tr>\n",
       "    <tr>\n",
       "      <th>std</th>\n",
       "      <td>2.896136</td>\n",
       "      <td>2.891899</td>\n",
       "      <td>6.688843</td>\n",
       "      <td>3.492251</td>\n",
       "    </tr>\n",
       "    <tr>\n",
       "      <th>min</th>\n",
       "      <td>10.770330</td>\n",
       "      <td>10.440307</td>\n",
       "      <td>15.000000</td>\n",
       "      <td>5.138974</td>\n",
       "    </tr>\n",
       "    <tr>\n",
       "      <th>25%</th>\n",
       "      <td>13.601471</td>\n",
       "      <td>13.928388</td>\n",
       "      <td>24.207437</td>\n",
       "      <td>10.856553</td>\n",
       "    </tr>\n",
       "    <tr>\n",
       "      <th>50%</th>\n",
       "      <td>15.297059</td>\n",
       "      <td>15.524175</td>\n",
       "      <td>28.425341</td>\n",
       "      <td>12.828382</td>\n",
       "    </tr>\n",
       "    <tr>\n",
       "      <th>75%</th>\n",
       "      <td>17.804494</td>\n",
       "      <td>17.888544</td>\n",
       "      <td>34.655447</td>\n",
       "      <td>15.788653</td>\n",
       "    </tr>\n",
       "    <tr>\n",
       "      <th>max</th>\n",
       "      <td>25.000000</td>\n",
       "      <td>25.000000</td>\n",
       "      <td>49.497475</td>\n",
       "      <td>26.840578</td>\n",
       "    </tr>\n",
       "  </tbody>\n",
       "</table>\n",
       "</div>"
      ],
      "text/plain": [
       "       background_max_distance  kernel_max_distance  textures_max_distance  \\\n",
       "count              3021.000000          3021.000000            3021.000000   \n",
       "mean                 15.972734            16.044878              29.686976   \n",
       "std                   2.896136             2.891899               6.688843   \n",
       "min                  10.770330            10.440307              15.000000   \n",
       "25%                  13.601471            13.928388              24.207437   \n",
       "50%                  15.297059            15.524175              28.425341   \n",
       "75%                  17.804494            17.888544              34.655447   \n",
       "max                  25.000000            25.000000              49.497475   \n",
       "\n",
       "       barycenter_distance  \n",
       "count          3021.000000  \n",
       "mean             13.570045  \n",
       "std               3.492251  \n",
       "min               5.138974  \n",
       "25%              10.856553  \n",
       "50%              12.828382  \n",
       "75%              15.788653  \n",
       "max              26.840578  "
      ]
     },
     "execution_count": 63,
     "metadata": {},
     "output_type": "execute_result"
    }
   ],
   "source": [
    "feat = [\"background_max_distance\", \"kernel_max_distance\", \"textures_max_distance\", \"barycenter_distance\"]\n",
    "data[feat].describe()"
   ]
  },
  {
   "cell_type": "code",
   "execution_count": 64,
   "id": "453e8893-259a-45a4-bdb9-014694638ab8",
   "metadata": {},
   "outputs": [],
   "source": [
    "data.to_csv(\"last.csv\")"
   ]
  },
  {
   "cell_type": "code",
   "execution_count": null,
   "id": "fc53d65e-8120-4c13-bd04-75063d1365d7",
   "metadata": {},
   "outputs": [],
   "source": []
  }
 ],
 "metadata": {
  "kernelspec": {
   "display_name": "Python 3",
   "language": "python",
   "name": "python3"
  },
  "language_info": {
   "codemirror_mode": {
    "name": "ipython",
    "version": 3
   },
   "file_extension": ".py",
   "mimetype": "text/x-python",
   "name": "python",
   "nbconvert_exporter": "python",
   "pygments_lexer": "ipython3",
   "version": "3.8.5"
  }
 },
 "nbformat": 4,
 "nbformat_minor": 5
}
