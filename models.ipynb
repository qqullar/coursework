{
 "cells": [
  {
   "cell_type": "code",
   "execution_count": 1,
   "id": "5d185eb9-53cc-498f-a049-48a2481a9635",
   "metadata": {},
   "outputs": [],
   "source": [
    "import numpy as np\n",
    "import pandas as pd"
   ]
  },
  {
   "cell_type": "code",
   "execution_count": 2,
   "id": "7ba23efb-ed20-4ff6-98ad-0ece2412df0b",
   "metadata": {},
   "outputs": [],
   "source": [
    "data = pd.read_csv(r\"last.csv\")"
   ]
  },
  {
   "cell_type": "code",
   "execution_count": 3,
   "id": "fee4cd9e-1442-48f5-8e2d-d28f8cd22d72",
   "metadata": {},
   "outputs": [],
   "source": [
    "#data.head()"
   ]
  },
  {
   "cell_type": "code",
   "execution_count": 4,
   "id": "e5e1d294-9927-451f-b37d-5a2f68a62566",
   "metadata": {},
   "outputs": [],
   "source": [
    "#data.describe()"
   ]
  },
  {
   "cell_type": "code",
   "execution_count": 5,
   "id": "aff35980-eb92-4f51-a4ab-b67be867ba93",
   "metadata": {},
   "outputs": [],
   "source": [
    "#data.dtypes"
   ]
  },
  {
   "cell_type": "code",
   "execution_count": 6,
   "id": "f0b7d6a9-d245-4c2a-a0fb-1abc2af12f99",
   "metadata": {},
   "outputs": [
    {
     "name": "stdout",
     "output_type": "stream",
     "text": [
      "Int64Index([2122, 2123, 2124, 2125, 2126, 2127, 2128, 2129, 2130, 2131,\n",
      "            ...\n",
      "            3011, 3012, 3013, 3014, 3015, 3016, 3017, 3018, 3019, 3020],\n",
      "           dtype='int64', length=899)\n"
     ]
    }
   ],
   "source": [
    "index_delete = data[data.group == 2].index\n",
    "print(index_delete)"
   ]
  },
  {
   "cell_type": "code",
   "execution_count": 7,
   "id": "097c1b86-1bdf-4bab-807f-4b8d5ef57ed3",
   "metadata": {},
   "outputs": [],
   "source": [
    "data_bin = data.drop(index_delete)"
   ]
  },
  {
   "cell_type": "code",
   "execution_count": 8,
   "id": "81d4ba9b-bd8f-4a15-bf72-a10f48ea0975",
   "metadata": {},
   "outputs": [
    {
     "data": {
      "text/html": [
       "<div>\n",
       "<style scoped>\n",
       "    .dataframe tbody tr th:only-of-type {\n",
       "        vertical-align: middle;\n",
       "    }\n",
       "\n",
       "    .dataframe tbody tr th {\n",
       "        vertical-align: top;\n",
       "    }\n",
       "\n",
       "    .dataframe thead th {\n",
       "        text-align: right;\n",
       "    }\n",
       "</style>\n",
       "<table border=\"1\" class=\"dataframe\">\n",
       "  <thead>\n",
       "    <tr style=\"text-align: right;\">\n",
       "      <th></th>\n",
       "      <th>Unnamed: 0</th>\n",
       "      <th>background_max_distance</th>\n",
       "      <th>kernel_max_distance</th>\n",
       "      <th>textures_max_distance</th>\n",
       "      <th>textures_min_distance</th>\n",
       "      <th>barycenter_distance</th>\n",
       "      <th>group</th>\n",
       "    </tr>\n",
       "  </thead>\n",
       "  <tbody>\n",
       "    <tr>\n",
       "      <th>0</th>\n",
       "      <td>0</td>\n",
       "      <td>12.369317</td>\n",
       "      <td>14.142136</td>\n",
       "      <td>22.671568</td>\n",
       "      <td>1.0</td>\n",
       "      <td>10.189276</td>\n",
       "      <td>0</td>\n",
       "    </tr>\n",
       "    <tr>\n",
       "      <th>1</th>\n",
       "      <td>1</td>\n",
       "      <td>16.155494</td>\n",
       "      <td>17.204651</td>\n",
       "      <td>31.240999</td>\n",
       "      <td>1.0</td>\n",
       "      <td>13.991094</td>\n",
       "      <td>0</td>\n",
       "    </tr>\n",
       "    <tr>\n",
       "      <th>2</th>\n",
       "      <td>2</td>\n",
       "      <td>16.552945</td>\n",
       "      <td>15.297059</td>\n",
       "      <td>30.413813</td>\n",
       "      <td>1.0</td>\n",
       "      <td>13.525940</td>\n",
       "      <td>0</td>\n",
       "    </tr>\n",
       "    <tr>\n",
       "      <th>3</th>\n",
       "      <td>3</td>\n",
       "      <td>17.000000</td>\n",
       "      <td>15.132746</td>\n",
       "      <td>29.832868</td>\n",
       "      <td>1.0</td>\n",
       "      <td>12.837341</td>\n",
       "      <td>0</td>\n",
       "    </tr>\n",
       "    <tr>\n",
       "      <th>4</th>\n",
       "      <td>4</td>\n",
       "      <td>16.155494</td>\n",
       "      <td>15.811388</td>\n",
       "      <td>30.413813</td>\n",
       "      <td>1.0</td>\n",
       "      <td>13.578361</td>\n",
       "      <td>0</td>\n",
       "    </tr>\n",
       "  </tbody>\n",
       "</table>\n",
       "</div>"
      ],
      "text/plain": [
       "   Unnamed: 0  background_max_distance  kernel_max_distance  \\\n",
       "0           0                12.369317            14.142136   \n",
       "1           1                16.155494            17.204651   \n",
       "2           2                16.552945            15.297059   \n",
       "3           3                17.000000            15.132746   \n",
       "4           4                16.155494            15.811388   \n",
       "\n",
       "   textures_max_distance  textures_min_distance  barycenter_distance  group  \n",
       "0              22.671568                    1.0            10.189276      0  \n",
       "1              31.240999                    1.0            13.991094      0  \n",
       "2              30.413813                    1.0            13.525940      0  \n",
       "3              29.832868                    1.0            12.837341      0  \n",
       "4              30.413813                    1.0            13.578361      0  "
      ]
     },
     "execution_count": 8,
     "metadata": {},
     "output_type": "execute_result"
    }
   ],
   "source": [
    "data_bin.head()"
   ]
  },
  {
   "cell_type": "code",
   "execution_count": 9,
   "id": "b4457da7-70ff-4920-951d-731b48d5acff",
   "metadata": {},
   "outputs": [],
   "source": [
    "#data_bin.describe()"
   ]
  },
  {
   "cell_type": "code",
   "execution_count": 10,
   "id": "a97895bf-f06d-44fe-aff1-b4a1d3b32d90",
   "metadata": {},
   "outputs": [],
   "source": [
    "data_bin = data_bin[600:]"
   ]
  },
  {
   "cell_type": "code",
   "execution_count": 11,
   "id": "d8d2b728-048c-4748-be28-c390472a80fe",
   "metadata": {},
   "outputs": [
    {
     "data": {
      "text/plain": [
       "(1522, 7)"
      ]
     },
     "execution_count": 11,
     "metadata": {},
     "output_type": "execute_result"
    }
   ],
   "source": [
    "data_bin.shape"
   ]
  },
  {
   "cell_type": "code",
   "execution_count": 12,
   "id": "99a36982-00a1-4c30-87e6-3a4ca3ef5174",
   "metadata": {},
   "outputs": [
    {
     "data": {
      "text/plain": [
       "726"
      ]
     },
     "execution_count": 12,
     "metadata": {},
     "output_type": "execute_result"
    }
   ],
   "source": [
    "len(data[data.group == 1].index)"
   ]
  },
  {
   "cell_type": "code",
   "execution_count": 13,
   "id": "c335d5d9-d061-4a31-9e69-ebc2ef332ef8",
   "metadata": {},
   "outputs": [],
   "source": [
    "from sklearn import model_selection, datasets"
   ]
  },
  {
   "cell_type": "code",
   "execution_count": 14,
   "id": "d2be6e7c-3f18-48d7-89f2-7df411323669",
   "metadata": {},
   "outputs": [],
   "source": [
    "X = data_bin[[\"background_max_distance\", \n",
    "              \"kernel_max_distance\", \"textures_max_distance\", \"barycenter_distance\"]]\n",
    "\n",
    "Y = data_bin[\"group\"]"
   ]
  },
  {
   "cell_type": "code",
   "execution_count": 15,
   "id": "16ed3071-18c9-4cb9-a493-79d9851703c7",
   "metadata": {},
   "outputs": [],
   "source": [
    "train_data, test_data, train_labels, test_label = model_selection.train_test_split(X, Y, \n",
    "                                                                                     test_size = 0.3)"
   ]
  },
  {
   "cell_type": "code",
   "execution_count": 16,
   "id": "a9c3d4ae-1c5a-470d-9781-a48532e37e56",
   "metadata": {},
   "outputs": [
    {
     "data": {
      "text/plain": [
       "0.3002628120893561"
      ]
     },
     "execution_count": 16,
     "metadata": {},
     "output_type": "execute_result"
    }
   ],
   "source": [
    "#убедимся, что тестовая выборка действительно составляет 0.3 от всех данных\n",
    "float(len(test_label))/len(X)"
   ]
  },
  {
   "cell_type": "code",
   "execution_count": 17,
   "id": "8794606b-5266-4e45-8a5a-a8a58c31890a",
   "metadata": {},
   "outputs": [],
   "source": [
    "from sklearn.ensemble import RandomForestClassifier"
   ]
  },
  {
   "cell_type": "code",
   "execution_count": 18,
   "id": "6b1d183a-108e-4c6a-a58e-53849318cc41",
   "metadata": {},
   "outputs": [],
   "source": [
    "# y = data_bin.group\n",
    "\n",
    "# features = [\"background_max_distance\", \"kernel_max_distance\", \"textures_max_distance\", \"barycenter_distance\"]\n",
    "# X = data_bin[features]\n",
    "# X_test = data_bin[features]"
   ]
  },
  {
   "cell_type": "markdown",
   "id": "f9136ba2-26c0-405a-be72-f2f837aad6c7",
   "metadata": {},
   "source": [
    "## RandomForestClassifier"
   ]
  },
  {
   "cell_type": "code",
   "execution_count": 19,
   "id": "5e851400-9b1e-4007-8b81-e35f654ccde5",
   "metadata": {},
   "outputs": [],
   "source": [
    "from sklearn.model_selection import StratifiedKFold\n",
    "from sklearn.metrics import confusion_matrix\n",
    "from sklearn.metrics import ConfusionMatrixDisplay"
   ]
  },
  {
   "cell_type": "code",
   "execution_count": 30,
   "id": "ae6367db-9a0e-4b0a-a509-f766ad3c3002",
   "metadata": {},
   "outputs": [
    {
     "name": "stdout",
     "output_type": "stream",
     "text": [
      "0.8397267649236153\n",
      "3\n",
      "0.8835125448028673\n",
      "0.8429752066115702\n"
     ]
    }
   ],
   "source": [
    "model = RandomForestClassifier(n_estimators=1000, max_depth=10, random_state=1)\n",
    "skf = StratifiedKFold(n_splits=3, shuffle=False)\n",
    "X=data_bin.drop('group', axis=1)\n",
    "y=data_bin.group\n",
    "\n",
    "mean_acc = 0\n",
    "mean_precision = 0\n",
    "mean_recall = 0\n",
    "k = 0\n",
    "for train_index, test_index in skf.split(X, y):\n",
    "    X_train, X_test = X.iloc[train_index], X.iloc[test_index]\n",
    "    y_train, y_test = y.iloc[train_index], y.iloc[test_index]\n",
    "    model.fit(X_train, y_train)\n",
    "    predictions = model.predict(X_test)\n",
    "    \n",
    "    cm = confusion_matrix(y_test, predictions)\n",
    "    tn, fp, fn, tp = cm.ravel()\n",
    "    mean_acc += model.score(X_test, y_test)\n",
    "    mean_precision += tp / (tp + fp)\n",
    "    mean_recall += tp / (tp + fn)\n",
    "    \n",
    "    \n",
    "#     s = 0\n",
    "#     for i in range(y_test.shape[0]):\n",
    "#         if y_test[i] == predictions[i]:\n",
    "#             s += 1\n",
    "    k += 1\n",
    "    \n",
    "if k != 0:\n",
    "    print(mean_acc / 3)\n",
    "    print(k)\n",
    "    print(mean_precision / k)\n",
    "    print(mean_recall / k)"
   ]
  },
  {
   "cell_type": "markdown",
   "id": "7487b3c6-38d5-4cb9-958f-7fd5e0cf4f90",
   "metadata": {},
   "source": [
    "$$\\operatorname{accuracy}(a, X)=\\frac{1}{\\ell} \\sum_{i=1}^{\\ell}\\left[a\\left(x_{i}\\right)=y_{i}\\right] $$"
   ]
  },
  {
   "cell_type": "markdown",
   "id": "0122dcb1-0a31-4ac5-938f-278dc8d20f61",
   "metadata": {},
   "source": [
    "Первая метрика, точность (precision), показывает, насколько можно доверять классификатору в случае срабатывания:"
   ]
  },
  {
   "cell_type": "markdown",
   "id": "f55ec33c-1713-4b49-a3f3-a1904a0e465f",
   "metadata": {},
   "source": [
    "$$\n",
    "\\operatorname{precision}(a, X)=\\frac{T P}{T P+F P}\n",
    "$$"
   ]
  },
  {
   "cell_type": "markdown",
   "id": "da4b392e-927d-4902-a0ac-d4a6f848b7f8",
   "metadata": {},
   "source": [
    "Вторая метрика, полнота (recall), показывает, на какой доле истинных объектов первого класса алгоритм\n",
    "срабатывает:"
   ]
  },
  {
   "cell_type": "markdown",
   "id": "e749f2af-b160-4dcd-bdad-ec83dc5bfc4a",
   "metadata": {},
   "source": [
    "$$\n",
    "\\operatorname{recall}(a, X)=\\frac{T P}{T P+F N}\n",
    "$$"
   ]
  },
  {
   "attachments": {
    "b2399356-a680-4b60-ac8b-0488bf407518.png": {
     "image/png": "[encoded data removed]"
    }
   },
   "cell_type": "markdown",
   "id": "a31c9ea5-fe9e-4a56-9376-415b82f8cd95",
   "metadata": {},
   "source": [
    "![image.png](attachment:b2399356-a680-4b60-ac8b-0488bf407518.png)"
   ]
  },
  {
   "cell_type": "code",
   "execution_count": 21,
   "id": "88b450db-f9d1-4190-97e2-0436f8929b94",
   "metadata": {},
   "outputs": [],
   "source": [
    "# from sklearn.metrics import confusion_matrix\n",
    "# from sklearn.metrics import ConfusionMatrixDisplay\n",
    "\n",
    "# cm = confusion_matrix(y, predictions)\n",
    "# tn, fp, fn, tp = cm.ravel()\n",
    "# cm_display = ConfusionMatrixDisplay(cm).plot()\n",
    "# print(f\"accuracy = {s / y.shape[0]}\")\n",
    "# print(f\"precision = {tp / (tp + fp)}\")\n",
    "# print(f\"recall = {tp / (tp + fn)}\")"
   ]
  },
  {
   "cell_type": "markdown",
   "id": "778754ee-91c5-4f55-8644-268fe890eacc",
   "metadata": {},
   "source": [
    "## Logistic regression"
   ]
  },
  {
   "cell_type": "code",
   "execution_count": 31,
   "id": "aeff98e5-d65f-4213-8e13-de51c2ec51c2",
   "metadata": {},
   "outputs": [
    {
     "name": "stdout",
     "output_type": "stream",
     "text": [
      "0.6681997371879107\n",
      "2\n",
      "0.8018394648829432\n",
      "0.6308539944903582\n"
     ]
    }
   ],
   "source": [
    "from sklearn.linear_model import LogisticRegression\n",
    "logreg = LogisticRegression(solver='liblinear')\n",
    "skf = StratifiedKFold(n_splits=2, shuffle=False)\n",
    "\n",
    "X=data_bin.drop('group', axis=1)\n",
    "y=data_bin.group\n",
    "\n",
    "mean_acc = 0\n",
    "mean_precision = 0\n",
    "mean_recall = 0\n",
    "k = 0\n",
    "for train_index, test_index in skf.split(X, y):\n",
    "    X_train, X_test = X.iloc[train_index], X.iloc[test_index]\n",
    "    y_train, y_test = y.iloc[train_index], y.iloc[test_index]\n",
    "    logreg.fit(X_train, y_train)\n",
    "    predictions = logreg.predict(X_test)\n",
    "    \n",
    "    cm = confusion_matrix(y_test, predictions)\n",
    "    tn, fp, fn, tp = cm.ravel()\n",
    "    mean_acc +=  logreg.score(X_test, y_test)\n",
    "    mean_precision += tp / (tp + fp)\n",
    "    mean_recall += tp / (tp + fn)\n",
    "    \n",
    "    \n",
    "#     s = 0\n",
    "#     for i in range(y_test.shape[0]):\n",
    "#         if y_test[i] == predictions[i]:\n",
    "#             s += 1\n",
    "    k += 1\n",
    "    \n",
    "if k != 0:\n",
    "    print(mean_acc / k)\n",
    "    print(k)\n",
    "    print(mean_precision / k)\n",
    "    print(mean_recall / k)"
   ]
  },
  {
   "cell_type": "code",
   "execution_count": 24,
   "id": "e18dd10c-0c64-475d-b4fd-97ad507dff6e",
   "metadata": {},
   "outputs": [],
   "source": [
    "# print(f\"Доля правильных ответов (accuracy) = {acc_log}\")\n",
    "# cm = confusion_matrix(y, Y_pred)\n",
    "# tn, fp, fn, tp = cm.ravel()\n",
    "# cm_display = ConfusionMatrixDisplay(cm).plot()\n",
    "# print(f\"precision = {tp / (tp + fp)}\")\n",
    "# print(f\"recall = {tp / (tp + fn)}\")"
   ]
  },
  {
   "cell_type": "markdown",
   "id": "5b5b2893-f274-4173-829b-b358a5cefebe",
   "metadata": {},
   "source": [
    "## Gradient boosting classifier"
   ]
  },
  {
   "cell_type": "code",
   "execution_count": 25,
   "id": "1276d18c-55c5-4695-a8c7-cefacc68ecd4",
   "metadata": {},
   "outputs": [],
   "source": [
    "from xgboost import XGBClassifier\n",
    "from sklearn.model_selection import GridSearchCV\n",
    "\n",
    "model_XGBC = XGBClassifier()\n",
    "\n",
    "param_grid_XGBC = {\n",
    "    'XGBC_model__eval_metric': ['error'],\n",
    "    'XGBC_model__objective': ['binary:logistic'],\n",
    "    'XGBC_model__tree_method': ['gpu_hist'],\n",
    "    'XGBC_model__n_estimators': [100], #[50, 100, 250, 350]\n",
    "    'XGBC_model__learning_rate': [0.1], #[0.03, 0.1, 0.3, 0.6] \n",
    "    'XGBC_model__max_depth': [6], #[6, 9]\n",
    "    'XGBC_model__min_child_weight': [2], #[1, 2, 3] \n",
    "    'XGBC_model__reg_alpha': [1], #[0.03, 1, 3]\n",
    "    'XGBC_model__reg_lambda': [0.01], #[0.003, 0.01, 0.03, 0.1] \n",
    "    'XGBC_model__random_state': [10],\n",
    "}\n",
    "\n",
    "searchCV_XGBC = GridSearchCV(X, param_grid=param_grid_XGBC,\n",
    "                             cv=5, scoring='accuracy',n_jobs=-1)"
   ]
  },
  {
   "cell_type": "markdown",
   "id": "4f71f0b2-9a55-46e0-9c4b-d8617f71fdcf",
   "metadata": {},
   "source": [
    "## k-Nearest Neighbors algorithm"
   ]
  },
  {
   "cell_type": "code",
   "execution_count": 26,
   "id": "5cfdde6d-ed2a-4b57-a914-8f45385e1bb5",
   "metadata": {},
   "outputs": [],
   "source": [
    "from sklearn.neighbors import KNeighborsClassifier"
   ]
  },
  {
   "cell_type": "code",
   "execution_count": 32,
   "id": "425fa1ce-af26-4f60-99a9-cd0ae30d892d",
   "metadata": {},
   "outputs": [
    {
     "name": "stdout",
     "output_type": "stream",
     "text": [
      "0.7411300919842313\n",
      "2\n",
      "0.7990922121356905\n",
      "0.9958677685950413\n"
     ]
    }
   ],
   "source": [
    "from sklearn.linear_model import LogisticRegression\n",
    "knn = KNeighborsClassifier(n_neighbors = 5)\n",
    "skf = StratifiedKFold(n_splits=2, shuffle=False)\n",
    "\n",
    "X=data_bin.drop('group', axis=1)\n",
    "y=data_bin.group\n",
    "\n",
    "mean_acc = 0\n",
    "mean_precision = 0\n",
    "mean_recall = 0\n",
    "k = 0\n",
    "for train_index, test_index in skf.split(X, y):\n",
    "    X_train, X_test = X.iloc[train_index], X.iloc[test_index]\n",
    "    y_train, y_test = y.iloc[train_index], y.iloc[test_index]\n",
    "    knn.fit(X_train, y_train)\n",
    "    predictions = logreg.predict(X_test)\n",
    "    \n",
    "    cm = confusion_matrix(y_test, predictions)\n",
    "    tn, fp, fn, tp = cm.ravel()\n",
    "    mean_acc +=  knn.score(X_test, y_test)\n",
    "    mean_precision += tp / (tp + fp)\n",
    "    mean_recall += tp / (tp + fn)\n",
    "    \n",
    "    \n",
    "#     s = 0\n",
    "#     for i in range(y_test.shape[0]):\n",
    "#         if y_test[i] == predictions[i]:\n",
    "#             s += 1\n",
    "    k += 1\n",
    "    \n",
    "if k != 0:\n",
    "    print(mean_acc / k)\n",
    "    print(k)\n",
    "    print(mean_precision / k)\n",
    "    print(mean_recall / k)"
   ]
  },
  {
   "cell_type": "markdown",
   "id": "995f00db-9346-435c-938a-cca15cc51f6e",
   "metadata": {},
   "source": [
    "## Decision tree"
   ]
  },
  {
   "cell_type": "code",
   "execution_count": 33,
   "id": "5cb704db-92e5-4cdd-a378-da0d69323197",
   "metadata": {},
   "outputs": [],
   "source": [
    "from sklearn.tree import DecisionTreeClassifier"
   ]
  },
  {
   "cell_type": "code",
   "execution_count": 38,
   "id": "0bfe317a-7ab7-47d5-b221-515c74df4153",
   "metadata": {},
   "outputs": [
    {
     "name": "stdout",
     "output_type": "stream",
     "text": [
      "74.0473061760841\n",
      "2\n",
      "81.84210526315789\n",
      "74.10468319559229\n"
     ]
    }
   ],
   "source": [
    "decision_tree = DecisionTreeClassifier()\n",
    "skf = StratifiedKFold(n_splits=2, shuffle=False)\n",
    "\n",
    "X=data_bin.drop('group', axis=1)\n",
    "y=data_bin.group\n",
    "\n",
    "mean_acc = 0\n",
    "mean_precision = 0\n",
    "mean_recall = 0\n",
    "k = 0\n",
    "for train_index, test_index in skf.split(X, y):\n",
    "    X_train, X_test = X.iloc[train_index], X.iloc[test_index]\n",
    "    y_train, y_test = y.iloc[train_index], y.iloc[test_index]\n",
    "    decision_tree.fit(X_train, y_train)\n",
    "    predictions = decision_tree.predict(X_test)\n",
    "    \n",
    "    cm = confusion_matrix(y_test, predictions)\n",
    "    tn, fp, fn, tp = cm.ravel()\n",
    "    mean_acc +=  decision_tree.score(X_test, y_test)\n",
    "    mean_precision += tp / (tp + fp)\n",
    "    mean_recall += tp / (tp + fn)\n",
    "    \n",
    "    \n",
    "#     s = 0\n",
    "#     for i in range(y_test.shape[0]):\n",
    "#         if y_test[i] == predictions[i]:\n",
    "#             s += 1\n",
    "    k += 1\n",
    "    \n",
    "if k != 0:\n",
    "    print(mean_acc * 100 / k)\n",
    "    print(k)\n",
    "    print(mean_precision * 100 / k)\n",
    "    print(mean_recall * 100 / k)"
   ]
  },
  {
   "cell_type": "markdown",
   "id": "6f10489a-7655-4f68-873f-442d77e11b4d",
   "metadata": {},
   "source": [
    "## Naive Bayes classifiers"
   ]
  },
  {
   "cell_type": "code",
   "execution_count": 37,
   "id": "23dcc81a-fa5e-4b21-a674-12b150d82966",
   "metadata": {},
   "outputs": [
    {
     "name": "stdout",
     "output_type": "stream",
     "text": [
      "0.942838370565046\n",
      "2\n",
      "0.9653846153846154\n",
      "0.9173553719008265\n"
     ]
    }
   ],
   "source": [
    "from sklearn.naive_bayes import GaussianNB\n",
    "gaussian = GaussianNB()\n",
    "skf = StratifiedKFold(n_splits=2, shuffle=False)\n",
    "\n",
    "X=data_bin.drop('group', axis=1)\n",
    "y=data_bin.group\n",
    "\n",
    "mean_acc = 0\n",
    "mean_precision = 0\n",
    "mean_recall = 0\n",
    "k = 0\n",
    "for train_index, test_index in skf.split(X, y):\n",
    "    X_train, X_test = X.iloc[train_index], X.iloc[test_index]\n",
    "    y_train, y_test = y.iloc[train_index], y.iloc[test_index]\n",
    "    gaussian.fit(X_train, y_train)\n",
    "    predictions = gaussian.predict(X_test)\n",
    "    \n",
    "    cm = confusion_matrix(y_test, predictions)\n",
    "    tn, fp, fn, tp = cm.ravel()\n",
    "    mean_acc +=  gaussian.score(X_test, y_test)\n",
    "    mean_precision += tp / (tp + fp)\n",
    "    mean_recall += tp / (tp + fn)\n",
    "    \n",
    "    \n",
    "#     s = 0\n",
    "#     for i in range(y_test.shape[0]):\n",
    "#         if y_test[i] == predictions[i]:\n",
    "#             s += 1\n",
    "    k += 1\n",
    "    \n",
    "if k != 0:\n",
    "    print(mean_acc / k)\n",
    "    print(k)\n",
    "    print(mean_precision / k)\n",
    "    print(mean_recall / k)"
   ]
  },
  {
   "cell_type": "code",
   "execution_count": 36,
   "id": "d8842e7d-e096-4d56-a956-154c73a82772",
   "metadata": {},
   "outputs": [
    {
     "ename": "NameError",
     "evalue": "name 'Y_train' is not defined",
     "output_type": "error",
     "traceback": [
      "\u001b[1;31m---------------------------------------------------------------------------\u001b[0m",
      "\u001b[1;31mNameError\u001b[0m                                 Traceback (most recent call last)",
      "\u001b[1;32m<ipython-input-36-23c714335798>\u001b[0m in \u001b[0;36m<module>\u001b[1;34m\u001b[0m\n\u001b[0;32m      1\u001b[0m \u001b[0mgaussian\u001b[0m \u001b[1;33m=\u001b[0m \u001b[0mGaussianNB\u001b[0m\u001b[1;33m(\u001b[0m\u001b[1;33m)\u001b[0m\u001b[1;33m\u001b[0m\u001b[1;33m\u001b[0m\u001b[0m\n\u001b[1;32m----> 2\u001b[1;33m \u001b[0mgaussian\u001b[0m\u001b[1;33m.\u001b[0m\u001b[0mfit\u001b[0m\u001b[1;33m(\u001b[0m\u001b[0mX_train\u001b[0m\u001b[1;33m,\u001b[0m \u001b[0mY_train\u001b[0m\u001b[1;33m)\u001b[0m\u001b[1;33m\u001b[0m\u001b[1;33m\u001b[0m\u001b[0m\n\u001b[0m\u001b[0;32m      3\u001b[0m \u001b[0mY_pred\u001b[0m \u001b[1;33m=\u001b[0m \u001b[0mgaussian\u001b[0m\u001b[1;33m.\u001b[0m\u001b[0mpredict\u001b[0m\u001b[1;33m(\u001b[0m\u001b[0mX_test\u001b[0m\u001b[1;33m)\u001b[0m\u001b[1;33m\u001b[0m\u001b[1;33m\u001b[0m\u001b[0m\n\u001b[0;32m      4\u001b[0m \u001b[0macc_gaussian\u001b[0m \u001b[1;33m=\u001b[0m \u001b[0mround\u001b[0m\u001b[1;33m(\u001b[0m\u001b[0mgaussian\u001b[0m\u001b[1;33m.\u001b[0m\u001b[0mscore\u001b[0m\u001b[1;33m(\u001b[0m\u001b[0mX_train\u001b[0m\u001b[1;33m,\u001b[0m \u001b[0mY_train\u001b[0m\u001b[1;33m)\u001b[0m \u001b[1;33m*\u001b[0m \u001b[1;36m100\u001b[0m\u001b[1;33m,\u001b[0m \u001b[1;36m2\u001b[0m\u001b[1;33m)\u001b[0m\u001b[1;33m\u001b[0m\u001b[1;33m\u001b[0m\u001b[0m\n\u001b[0;32m      5\u001b[0m \u001b[0macc_gaussian\u001b[0m\u001b[1;33m\u001b[0m\u001b[1;33m\u001b[0m\u001b[0m\n",
      "\u001b[1;31mNameError\u001b[0m: name 'Y_train' is not defined"
     ]
    }
   ],
   "source": [
    "\n"
   ]
  },
  {
   "cell_type": "code",
   "execution_count": null,
   "id": "d7d37159-d8c4-4962-b1aa-171115de02fb",
   "metadata": {},
   "outputs": [],
   "source": []
  }
 ],
 "metadata": {
  "kernelspec": {
   "display_name": "Python 3",
   "language": "python",
   "name": "python3"
  },
  "language_info": {
   "codemirror_mode": {
    "name": "ipython",
    "version": 3
   },
   "file_extension": ".py",
   "mimetype": "text/x-python",
   "name": "python",
   "nbconvert_exporter": "python",
   "pygments_lexer": "ipython3",
   "version": "3.8.5"
  }
 },
 "nbformat": 4,
 "nbformat_minor": 5
}
