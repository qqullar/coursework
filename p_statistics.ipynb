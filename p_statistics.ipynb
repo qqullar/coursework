{
 "cells": [
  {
   "cell_type": "code",
   "execution_count": 2,
   "id": "26a5d114-1d18-4b23-939d-5d378dd49385",
   "metadata": {},
   "outputs": [],
   "source": [
    "import os\n",
    "import numpy as np"
   ]
  },
  {
   "cell_type": "code",
   "execution_count": 3,
   "id": "62f34a4e-4ea4-4476-84ba-e8b0dcee558e",
   "metadata": {},
   "outputs": [],
   "source": [
    "# group 1\n",
    "# group 2\n",
    "# group 3\n",
    "\n",
    "# delete paitient from all groups\n",
    "# calc how close to each group\n",
    "# make this for all paetiens\n",
    "# calc error\n",
    "\n"
   ]
  },
  {
   "cell_type": "code",
   "execution_count": null,
   "id": "57d60f8c-1385-4d3c-8980-10b2522d2826",
   "metadata": {},
   "outputs": [],
   "source": []
  }
 ],
 "metadata": {
  "kernelspec": {
   "display_name": "Python 3",
   "language": "python",
   "name": "python3"
  },
  "language_info": {
   "codemirror_mode": {
    "name": "ipython",
    "version": 3
   },
   "file_extension": ".py",
   "mimetype": "text/x-python",
   "name": "python",
   "nbconvert_exporter": "python",
   "pygments_lexer": "ipython3",
   "version": "3.8.5"
  }
 },
 "nbformat": 4,
 "nbformat_minor": 5
}
